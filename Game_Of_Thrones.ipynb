{
  "nbformat": 4,
  "nbformat_minor": 0,
  "metadata": {
    "colab": {
      "name": "Game Of Thrones",
      "provenance": [],
      "collapsed_sections": [],
      "authorship_tag": "ABX9TyOqEMlmnWr0JrS7jt7yOtwy",
      "include_colab_link": true
    },
    "kernelspec": {
      "name": "python3",
      "display_name": "Python 3"
    },
    "language_info": {
      "name": "python"
    }
  },
  "cells": [
    {
      "cell_type": "markdown",
      "metadata": {
        "id": "view-in-github",
        "colab_type": "text"
      },
      "source": [
        "<a href=\"https://colab.research.google.com/github/Yashwant-Code98/Covid-EDA/blob/master/Game_Of_Thrones.ipynb\" target=\"_parent\"><img src=\"https://colab.research.google.com/assets/colab-badge.svg\" alt=\"Open In Colab\"/></a>"
      ]
    },
    {
      "cell_type": "code",
      "metadata": {
        "id": "fRqjop1JQcun"
      },
      "source": [
        "import pandas as pd\n",
        "import matplotlib.pyplot as plt\n",
        "import seaborn as sns"
      ],
      "execution_count": 6,
      "outputs": []
    },
    {
      "cell_type": "code",
      "metadata": {
        "id": "-mTJBzXoRBrv"
      },
      "source": [
        "battle = pd.read_csv(\"battle.csv\")"
      ],
      "execution_count": 7,
      "outputs": []
    },
    {
      "cell_type": "code",
      "metadata": {
        "colab": {
          "base_uri": "https://localhost:8080/",
          "height": 411
        },
        "id": "7yCTT626RMek",
        "outputId": "ad5f916d-4560-41b5-df37-8605dff98c7f"
      },
      "source": [
        "battle.head()"
      ],
      "execution_count": null,
      "outputs": [
        {
          "output_type": "execute_result",
          "data": {
            "text/html": [
              "<div>\n",
              "<style scoped>\n",
              "    .dataframe tbody tr th:only-of-type {\n",
              "        vertical-align: middle;\n",
              "    }\n",
              "\n",
              "    .dataframe tbody tr th {\n",
              "        vertical-align: top;\n",
              "    }\n",
              "\n",
              "    .dataframe thead th {\n",
              "        text-align: right;\n",
              "    }\n",
              "</style>\n",
              "<table border=\"1\" class=\"dataframe\">\n",
              "  <thead>\n",
              "    <tr style=\"text-align: right;\">\n",
              "      <th></th>\n",
              "      <th>name</th>\n",
              "      <th>year</th>\n",
              "      <th>battle_number</th>\n",
              "      <th>attacker_king</th>\n",
              "      <th>defender_king</th>\n",
              "      <th>attacker_1</th>\n",
              "      <th>attacker_2</th>\n",
              "      <th>attacker_3</th>\n",
              "      <th>attacker_4</th>\n",
              "      <th>defender_1</th>\n",
              "      <th>defender_2</th>\n",
              "      <th>defender_3</th>\n",
              "      <th>defender_4</th>\n",
              "      <th>attacker_outcome</th>\n",
              "      <th>battle_type</th>\n",
              "      <th>major_death</th>\n",
              "      <th>major_capture</th>\n",
              "      <th>attacker_size</th>\n",
              "      <th>defender_size</th>\n",
              "      <th>attacker_commander</th>\n",
              "      <th>defender_commander</th>\n",
              "      <th>summer</th>\n",
              "      <th>location</th>\n",
              "      <th>region</th>\n",
              "      <th>note</th>\n",
              "    </tr>\n",
              "  </thead>\n",
              "  <tbody>\n",
              "    <tr>\n",
              "      <th>0</th>\n",
              "      <td>Battle of the Golden Tooth</td>\n",
              "      <td>298</td>\n",
              "      <td>1</td>\n",
              "      <td>Joffrey/Tommen Baratheon</td>\n",
              "      <td>Robb Stark</td>\n",
              "      <td>Lannister</td>\n",
              "      <td>NaN</td>\n",
              "      <td>NaN</td>\n",
              "      <td>NaN</td>\n",
              "      <td>Tully</td>\n",
              "      <td>NaN</td>\n",
              "      <td>NaN</td>\n",
              "      <td>NaN</td>\n",
              "      <td>win</td>\n",
              "      <td>pitched battle</td>\n",
              "      <td>True</td>\n",
              "      <td>False</td>\n",
              "      <td>15000.0</td>\n",
              "      <td>4000.0</td>\n",
              "      <td>Jaime Lannister</td>\n",
              "      <td>Clement Piper, Vance</td>\n",
              "      <td>True</td>\n",
              "      <td>Golden Tooth</td>\n",
              "      <td>The Westerlands</td>\n",
              "      <td>NaN</td>\n",
              "    </tr>\n",
              "    <tr>\n",
              "      <th>1</th>\n",
              "      <td>Battle at the Mummer's Ford</td>\n",
              "      <td>298</td>\n",
              "      <td>2</td>\n",
              "      <td>Joffrey/Tommen Baratheon</td>\n",
              "      <td>Robb Stark</td>\n",
              "      <td>Lannister</td>\n",
              "      <td>NaN</td>\n",
              "      <td>NaN</td>\n",
              "      <td>NaN</td>\n",
              "      <td>Baratheon</td>\n",
              "      <td>NaN</td>\n",
              "      <td>NaN</td>\n",
              "      <td>NaN</td>\n",
              "      <td>win</td>\n",
              "      <td>ambush</td>\n",
              "      <td>True</td>\n",
              "      <td>False</td>\n",
              "      <td>NaN</td>\n",
              "      <td>120.0</td>\n",
              "      <td>Gregor Clegane</td>\n",
              "      <td>Beric Dondarrion</td>\n",
              "      <td>True</td>\n",
              "      <td>Mummer's Ford</td>\n",
              "      <td>The Riverlands</td>\n",
              "      <td>NaN</td>\n",
              "    </tr>\n",
              "    <tr>\n",
              "      <th>2</th>\n",
              "      <td>Battle of Riverrun</td>\n",
              "      <td>298</td>\n",
              "      <td>3</td>\n",
              "      <td>Joffrey/Tommen Baratheon</td>\n",
              "      <td>Robb Stark</td>\n",
              "      <td>Lannister</td>\n",
              "      <td>NaN</td>\n",
              "      <td>NaN</td>\n",
              "      <td>NaN</td>\n",
              "      <td>Tully</td>\n",
              "      <td>NaN</td>\n",
              "      <td>NaN</td>\n",
              "      <td>NaN</td>\n",
              "      <td>win</td>\n",
              "      <td>pitched battle</td>\n",
              "      <td>False</td>\n",
              "      <td>True</td>\n",
              "      <td>15000.0</td>\n",
              "      <td>10000.0</td>\n",
              "      <td>Jaime Lannister, Andros Brax</td>\n",
              "      <td>Edmure Tully, Tytos Blackwood</td>\n",
              "      <td>True</td>\n",
              "      <td>Riverrun</td>\n",
              "      <td>The Riverlands</td>\n",
              "      <td>NaN</td>\n",
              "    </tr>\n",
              "    <tr>\n",
              "      <th>3</th>\n",
              "      <td>Battle of the Green Fork</td>\n",
              "      <td>298</td>\n",
              "      <td>4</td>\n",
              "      <td>Robb Stark</td>\n",
              "      <td>Joffrey/Tommen Baratheon</td>\n",
              "      <td>Stark</td>\n",
              "      <td>NaN</td>\n",
              "      <td>NaN</td>\n",
              "      <td>NaN</td>\n",
              "      <td>Lannister</td>\n",
              "      <td>NaN</td>\n",
              "      <td>NaN</td>\n",
              "      <td>NaN</td>\n",
              "      <td>loss</td>\n",
              "      <td>pitched battle</td>\n",
              "      <td>True</td>\n",
              "      <td>True</td>\n",
              "      <td>18000.0</td>\n",
              "      <td>20000.0</td>\n",
              "      <td>Roose Bolton, Wylis Manderly, Medger Cerwyn, H...</td>\n",
              "      <td>Tywin Lannister, Gregor Clegane, Kevan Lannist...</td>\n",
              "      <td>True</td>\n",
              "      <td>Green Fork</td>\n",
              "      <td>The Riverlands</td>\n",
              "      <td>NaN</td>\n",
              "    </tr>\n",
              "    <tr>\n",
              "      <th>4</th>\n",
              "      <td>Battle of the Whispering Wood</td>\n",
              "      <td>298</td>\n",
              "      <td>5</td>\n",
              "      <td>Robb Stark</td>\n",
              "      <td>Joffrey/Tommen Baratheon</td>\n",
              "      <td>Stark</td>\n",
              "      <td>Tully</td>\n",
              "      <td>NaN</td>\n",
              "      <td>NaN</td>\n",
              "      <td>Lannister</td>\n",
              "      <td>NaN</td>\n",
              "      <td>NaN</td>\n",
              "      <td>NaN</td>\n",
              "      <td>win</td>\n",
              "      <td>ambush</td>\n",
              "      <td>True</td>\n",
              "      <td>True</td>\n",
              "      <td>1875.0</td>\n",
              "      <td>6000.0</td>\n",
              "      <td>Robb Stark, Brynden Tully</td>\n",
              "      <td>Jaime Lannister</td>\n",
              "      <td>True</td>\n",
              "      <td>Whispering Wood</td>\n",
              "      <td>The Riverlands</td>\n",
              "      <td>NaN</td>\n",
              "    </tr>\n",
              "  </tbody>\n",
              "</table>\n",
              "</div>"
            ],
            "text/plain": [
              "                            name  year  ...           region note\n",
              "0     Battle of the Golden Tooth   298  ...  The Westerlands  NaN\n",
              "1    Battle at the Mummer's Ford   298  ...   The Riverlands  NaN\n",
              "2             Battle of Riverrun   298  ...   The Riverlands  NaN\n",
              "3       Battle of the Green Fork   298  ...   The Riverlands  NaN\n",
              "4  Battle of the Whispering Wood   298  ...   The Riverlands  NaN\n",
              "\n",
              "[5 rows x 25 columns]"
            ]
          },
          "metadata": {
            "tags": []
          },
          "execution_count": 20
        }
      ]
    },
    {
      "cell_type": "code",
      "metadata": {
        "colab": {
          "base_uri": "https://localhost:8080/"
        },
        "id": "egjh-diDRdxG",
        "outputId": "9321a07b-2e60-42b9-e38c-74c2f69f3352"
      },
      "source": [
        "battle[\"name\"].value_counts()"
      ],
      "execution_count": 8,
      "outputs": [
        {
          "output_type": "execute_result",
          "data": {
            "text/plain": [
              "Battle of the Ruby Ford                                 1\n",
              "Retaking of Harrenhal                                   1\n",
              "Battle of the Blackwater                                1\n",
              "Siege of Seagard                                        1\n",
              "Retaking of Deepwood Motte                              1\n",
              "Battle of Castle Black                                  1\n",
              "Battle of Winterfell                                    1\n",
              "Siege of Storm's End                                    1\n",
              "Invasion of Ryamsport, Vinetown, and Starfish Harbor    1\n",
              "Second Seige of Storm's End                             1\n",
              "Siege of Riverrun                                       1\n",
              "Battle of the Green Fork                                1\n",
              "Battle of the Camps                                     1\n",
              "Battle of the Stony Shore                               1\n",
              "Siege of Winterfell                                     1\n",
              "Battle of Oxcross                                       1\n",
              "Battle of the Burning Septry                            1\n",
              "Sack of Saltpans                                        1\n",
              "Battle of Riverrun                                      1\n",
              "Battle of Deepwood Motte                                1\n",
              "Sack of Winterfell                                      1\n",
              "Siege of Raventree                                      1\n",
              "Siege of Darry                                          1\n",
              "Sack of Harrenhal                                       1\n",
              "Battle of Torrhen's Square                              1\n",
              "Battle of the Golden Tooth                              1\n",
              "Battle of the Shield Islands                            1\n",
              "Battle of the Crag                                      1\n",
              "Battle of Duskendale                                    1\n",
              "Sack of Torrhen's Square                                1\n",
              "The Red Wedding                                         1\n",
              "Sack of Darry                                           1\n",
              "Battle of the Fords                                     1\n",
              "Siege of Dragonstone                                    1\n",
              "Fall of Moat Cailin                                     1\n",
              "Battle of Moat Cailin                                   1\n",
              "Battle of the Whispering Wood                           1\n",
              "Battle at the Mummer's Ford                             1\n",
              "Name: name, dtype: int64"
            ]
          },
          "metadata": {
            "tags": []
          },
          "execution_count": 8
        }
      ]
    },
    {
      "cell_type": "code",
      "metadata": {
        "colab": {
          "base_uri": "https://localhost:8080/",
          "height": 190
        },
        "id": "c7u9OKMZRvOF",
        "outputId": "c7da3eaf-95ab-4c57-8fde-d4dedd6cedba"
      },
      "source": [
        "plt.figure(figsize=(15,10))\n",
        "plt.bar(list(battle[\"name\"].value_counts().index),list(battle[\"name\"].value_counts()),color=[\"red\"])\n",
        "plt.show()"
      ],
      "execution_count": 9,
      "outputs": [
        {
          "output_type": "display_data",
          "data": {
            "image/png": "[encoded data removed]",
            "text/plain": [
              "<Figure size 1080x720 with 1 Axes>"
            ]
          },
          "metadata": {
            "tags": [],
            "needs_background": "light"
          }
        }
      ]
    },
    {
      "cell_type": "code",
      "metadata": {
        "colab": {
          "base_uri": "https://localhost:8080/"
        },
        "id": "Zv3AC2miS7jl",
        "outputId": "f3646000-717b-4566-ce2e-fcebdb6752c0"
      },
      "source": [
        "battle[\"year\"].value_counts()"
      ],
      "execution_count": 10,
      "outputs": [
        {
          "output_type": "execute_result",
          "data": {
            "text/plain": [
              "299    20\n",
              "300    11\n",
              "298     7\n",
              "Name: year, dtype: int64"
            ]
          },
          "metadata": {
            "tags": []
          },
          "execution_count": 10
        }
      ]
    },
    {
      "cell_type": "code",
      "metadata": {
        "colab": {
          "base_uri": "https://localhost:8080/",
          "height": 197
        },
        "id": "ZEDmK-EwTKcp",
        "outputId": "ff22e000-6422-4906-a8d1-0cedaa35d98d"
      },
      "source": [
        "sns.histplot(battle[\"year\"],kde=True)\n",
        "plt.show()"
      ],
      "execution_count": 11,
      "outputs": [
        {
          "output_type": "display_data",
          "data": {
            "image/png": "[encoded data removed]",
            "text/plain": [
              "<Figure size 432x288 with 1 Axes>"
            ]
          },
          "metadata": {
            "tags": [],
            "needs_background": "light"
          }
        }
      ]
    },
    {
      "cell_type": "code",
      "metadata": {
        "colab": {
          "base_uri": "https://localhost:8080/"
        },
        "id": "vmYYw_UfT6Ye",
        "outputId": "8ac7fc99-42de-4ce4-cec1-5fae156e8cb3"
      },
      "source": [
        "battle[\"battle_number\"].value_counts()"
      ],
      "execution_count": 12,
      "outputs": [
        {
          "output_type": "execute_result",
          "data": {
            "text/plain": [
              "38    1\n",
              "10    1\n",
              "17    1\n",
              "16    1\n",
              "15    1\n",
              "14    1\n",
              "13    1\n",
              "12    1\n",
              "11    1\n",
              "9     1\n",
              "37    1\n",
              "8     1\n",
              "7     1\n",
              "6     1\n",
              "5     1\n",
              "4     1\n",
              "3     1\n",
              "2     1\n",
              "18    1\n",
              "19    1\n",
              "20    1\n",
              "21    1\n",
              "36    1\n",
              "35    1\n",
              "34    1\n",
              "33    1\n",
              "32    1\n",
              "31    1\n",
              "30    1\n",
              "29    1\n",
              "28    1\n",
              "27    1\n",
              "26    1\n",
              "25    1\n",
              "24    1\n",
              "23    1\n",
              "22    1\n",
              "1     1\n",
              "Name: battle_number, dtype: int64"
            ]
          },
          "metadata": {
            "tags": []
          },
          "execution_count": 12
        }
      ]
    },
    {
      "cell_type": "code",
      "metadata": {
        "colab": {
          "base_uri": "https://localhost:8080/",
          "height": 206
        },
        "id": "7XPZcNeDUogl",
        "outputId": "b542301c-b8bd-48c0-acf7-23106db17056"
      },
      "source": [
        "sns.histplot(battle[\"battle_number\"],color=\"olive\")\n",
        "plt.show()"
      ],
      "execution_count": 13,
      "outputs": [
        {
          "output_type": "display_data",
          "data": {
            "image/png": "[encoded data removed]",
            "text/plain": [
              "<Figure size 432x288 with 1 Axes>"
            ]
          },
          "metadata": {
            "tags": [],
            "needs_background": "light"
          }
        }
      ]
    },
    {
      "cell_type": "code",
      "metadata": {
        "colab": {
          "base_uri": "https://localhost:8080/"
        },
        "id": "YQ6pyrAPVvkv",
        "outputId": "2a30ddb6-6d87-4bb3-90d0-d1b6046b12dc"
      },
      "source": [
        "battle[\"attacker_king\"].value_counts()"
      ],
      "execution_count": 14,
      "outputs": [
        {
          "output_type": "execute_result",
          "data": {
            "text/plain": [
              "Joffrey/Tommen Baratheon    14\n",
              "Robb Stark                  10\n",
              "Balon/Euron Greyjoy          7\n",
              "Stannis Baratheon            5\n",
              "Name: attacker_king, dtype: int64"
            ]
          },
          "metadata": {
            "tags": []
          },
          "execution_count": 14
        }
      ]
    },
    {
      "cell_type": "code",
      "metadata": {
        "colab": {
          "base_uri": "https://localhost:8080/",
          "height": 263
        },
        "id": "htJRnQ_2WjBz",
        "outputId": "5992cc30-2174-429f-aecf-e51ec2a25f6d"
      },
      "source": [
        "plt.figure(figsize=(15,10))\n",
        "plt.pie(list(battle[\"attacker_king\"].value_counts()),labels=list(battle[\"attacker_king\"].value_counts().index), autopct=\"%0.1f%%\")\n",
        "plt.show()"
      ],
      "execution_count": 15,
      "outputs": [
        {
          "output_type": "display_data",
          "data": {
            "image/png": "[encoded data removed]",
            "text/plain": [
              "<Figure size 1080x720 with 1 Axes>"
            ]
          },
          "metadata": {
            "tags": []
          }
        }
      ]
    },
    {
      "cell_type": "code",
      "metadata": {
        "colab": {
          "base_uri": "https://localhost:8080/"
        },
        "id": "ZFr5njVxr6sN",
        "outputId": "7efc0473-bf07-4234-a746-bd6c66137015"
      },
      "source": [
        "battle[\"defender_king\"].value_counts()"
      ],
      "execution_count": 18,
      "outputs": [
        {
          "output_type": "execute_result",
          "data": {
            "text/plain": [
              "Robb Stark                  14\n",
              "Joffrey/Tommen Baratheon    13\n",
              "Balon/Euron Greyjoy          4\n",
              "Stannis Baratheon            2\n",
              "Mance Rayder                 1\n",
              "Renly Baratheon              1\n",
              "Name: defender_king, dtype: int64"
            ]
          },
          "metadata": {
            "tags": []
          },
          "execution_count": 18
        }
      ]
    },
    {
      "cell_type": "code",
      "metadata": {
        "colab": {
          "base_uri": "https://localhost:8080/",
          "height": 196
        },
        "id": "RApWo0jIsdwM",
        "outputId": "0572c787-0547-450b-8a68-37cd61721db7"
      },
      "source": [
        "plt.figure(figsize=(15,10))\n",
        "plt.bar(list(battle[\"defender_king\"].value_counts().index),list(battle[\"defender_king\"].value_counts()),color=[\"grey\"])\n",
        "plt.show()"
      ],
      "execution_count": 20,
      "outputs": [
        {
          "output_type": "display_data",
          "data": {
            "image/png": "[encoded data removed]",
            "text/plain": [
              "<Figure size 1080x720 with 1 Axes>"
            ]
          },
          "metadata": {
            "tags": [],
            "needs_background": "light"
          }
        }
      ]
    },
    {
      "cell_type": "code",
      "metadata": {
        "colab": {
          "base_uri": "https://localhost:8080/",
          "height": 411
        },
        "id": "hp48zqV0tRzf",
        "outputId": "b6ec8c11-610d-4943-cb92-50b1016daa94"
      },
      "source": [
        "battle.head()"
      ],
      "execution_count": 22,
      "outputs": [
        {
          "output_type": "execute_result",
          "data": {
            "text/html": [
              "<div>\n",
              "<style scoped>\n",
              "    .dataframe tbody tr th:only-of-type {\n",
              "        vertical-align: middle;\n",
              "    }\n",
              "\n",
              "    .dataframe tbody tr th {\n",
              "        vertical-align: top;\n",
              "    }\n",
              "\n",
              "    .dataframe thead th {\n",
              "        text-align: right;\n",
              "    }\n",
              "</style>\n",
              "<table border=\"1\" class=\"dataframe\">\n",
              "  <thead>\n",
              "    <tr style=\"text-align: right;\">\n",
              "      <th></th>\n",
              "      <th>name</th>\n",
              "      <th>year</th>\n",
              "      <th>battle_number</th>\n",
              "      <th>attacker_king</th>\n",
              "      <th>defender_king</th>\n",
              "      <th>attacker_1</th>\n",
              "      <th>attacker_2</th>\n",
              "      <th>attacker_3</th>\n",
              "      <th>attacker_4</th>\n",
              "      <th>defender_1</th>\n",
              "      <th>defender_2</th>\n",
              "      <th>defender_3</th>\n",
              "      <th>defender_4</th>\n",
              "      <th>attacker_outcome</th>\n",
              "      <th>battle_type</th>\n",
              "      <th>major_death</th>\n",
              "      <th>major_capture</th>\n",
              "      <th>attacker_size</th>\n",
              "      <th>defender_size</th>\n",
              "      <th>attacker_commander</th>\n",
              "      <th>defender_commander</th>\n",
              "      <th>summer</th>\n",
              "      <th>location</th>\n",
              "      <th>region</th>\n",
              "      <th>note</th>\n",
              "    </tr>\n",
              "  </thead>\n",
              "  <tbody>\n",
              "    <tr>\n",
              "      <th>0</th>\n",
              "      <td>Battle of the Golden Tooth</td>\n",
              "      <td>298</td>\n",
              "      <td>1</td>\n",
              "      <td>Joffrey/Tommen Baratheon</td>\n",
              "      <td>Robb Stark</td>\n",
              "      <td>Lannister</td>\n",
              "      <td>NaN</td>\n",
              "      <td>NaN</td>\n",
              "      <td>NaN</td>\n",
              "      <td>Tully</td>\n",
              "      <td>NaN</td>\n",
              "      <td>NaN</td>\n",
              "      <td>NaN</td>\n",
              "      <td>win</td>\n",
              "      <td>pitched battle</td>\n",
              "      <td>True</td>\n",
              "      <td>False</td>\n",
              "      <td>15000.0</td>\n",
              "      <td>4000.0</td>\n",
              "      <td>Jaime Lannister</td>\n",
              "      <td>Clement Piper, Vance</td>\n",
              "      <td>True</td>\n",
              "      <td>Golden Tooth</td>\n",
              "      <td>The Westerlands</td>\n",
              "      <td>NaN</td>\n",
              "    </tr>\n",
              "    <tr>\n",
              "      <th>1</th>\n",
              "      <td>Battle at the Mummer's Ford</td>\n",
              "      <td>298</td>\n",
              "      <td>2</td>\n",
              "      <td>Joffrey/Tommen Baratheon</td>\n",
              "      <td>Robb Stark</td>\n",
              "      <td>Lannister</td>\n",
              "      <td>NaN</td>\n",
              "      <td>NaN</td>\n",
              "      <td>NaN</td>\n",
              "      <td>Baratheon</td>\n",
              "      <td>NaN</td>\n",
              "      <td>NaN</td>\n",
              "      <td>NaN</td>\n",
              "      <td>win</td>\n",
              "      <td>ambush</td>\n",
              "      <td>True</td>\n",
              "      <td>False</td>\n",
              "      <td>NaN</td>\n",
              "      <td>120.0</td>\n",
              "      <td>Gregor Clegane</td>\n",
              "      <td>Beric Dondarrion</td>\n",
              "      <td>True</td>\n",
              "      <td>Mummer's Ford</td>\n",
              "      <td>The Riverlands</td>\n",
              "      <td>NaN</td>\n",
              "    </tr>\n",
              "    <tr>\n",
              "      <th>2</th>\n",
              "      <td>Battle of Riverrun</td>\n",
              "      <td>298</td>\n",
              "      <td>3</td>\n",
              "      <td>Joffrey/Tommen Baratheon</td>\n",
              "      <td>Robb Stark</td>\n",
              "      <td>Lannister</td>\n",
              "      <td>NaN</td>\n",
              "      <td>NaN</td>\n",
              "      <td>NaN</td>\n",
              "      <td>Tully</td>\n",
              "      <td>NaN</td>\n",
              "      <td>NaN</td>\n",
              "      <td>NaN</td>\n",
              "      <td>win</td>\n",
              "      <td>pitched battle</td>\n",
              "      <td>False</td>\n",
              "      <td>True</td>\n",
              "      <td>15000.0</td>\n",
              "      <td>10000.0</td>\n",
              "      <td>Jaime Lannister, Andros Brax</td>\n",
              "      <td>Edmure Tully, Tytos Blackwood</td>\n",
              "      <td>True</td>\n",
              "      <td>Riverrun</td>\n",
              "      <td>The Riverlands</td>\n",
              "      <td>NaN</td>\n",
              "    </tr>\n",
              "    <tr>\n",
              "      <th>3</th>\n",
              "      <td>Battle of the Green Fork</td>\n",
              "      <td>298</td>\n",
              "      <td>4</td>\n",
              "      <td>Robb Stark</td>\n",
              "      <td>Joffrey/Tommen Baratheon</td>\n",
              "      <td>Stark</td>\n",
              "      <td>NaN</td>\n",
              "      <td>NaN</td>\n",
              "      <td>NaN</td>\n",
              "      <td>Lannister</td>\n",
              "      <td>NaN</td>\n",
              "      <td>NaN</td>\n",
              "      <td>NaN</td>\n",
              "      <td>loss</td>\n",
              "      <td>pitched battle</td>\n",
              "      <td>True</td>\n",
              "      <td>True</td>\n",
              "      <td>18000.0</td>\n",
              "      <td>20000.0</td>\n",
              "      <td>Roose Bolton, Wylis Manderly, Medger Cerwyn, H...</td>\n",
              "      <td>Tywin Lannister, Gregor Clegane, Kevan Lannist...</td>\n",
              "      <td>True</td>\n",
              "      <td>Green Fork</td>\n",
              "      <td>The Riverlands</td>\n",
              "      <td>NaN</td>\n",
              "    </tr>\n",
              "    <tr>\n",
              "      <th>4</th>\n",
              "      <td>Battle of the Whispering Wood</td>\n",
              "      <td>298</td>\n",
              "      <td>5</td>\n",
              "      <td>Robb Stark</td>\n",
              "      <td>Joffrey/Tommen Baratheon</td>\n",
              "      <td>Stark</td>\n",
              "      <td>Tully</td>\n",
              "      <td>NaN</td>\n",
              "      <td>NaN</td>\n",
              "      <td>Lannister</td>\n",
              "      <td>NaN</td>\n",
              "      <td>NaN</td>\n",
              "      <td>NaN</td>\n",
              "      <td>win</td>\n",
              "      <td>ambush</td>\n",
              "      <td>True</td>\n",
              "      <td>True</td>\n",
              "      <td>1875.0</td>\n",
              "      <td>6000.0</td>\n",
              "      <td>Robb Stark, Brynden Tully</td>\n",
              "      <td>Jaime Lannister</td>\n",
              "      <td>True</td>\n",
              "      <td>Whispering Wood</td>\n",
              "      <td>The Riverlands</td>\n",
              "      <td>NaN</td>\n",
              "    </tr>\n",
              "  </tbody>\n",
              "</table>\n",
              "</div>"
            ],
            "text/plain": [
              "                            name  year  ...           region note\n",
              "0     Battle of the Golden Tooth   298  ...  The Westerlands  NaN\n",
              "1    Battle at the Mummer's Ford   298  ...   The Riverlands  NaN\n",
              "2             Battle of Riverrun   298  ...   The Riverlands  NaN\n",
              "3       Battle of the Green Fork   298  ...   The Riverlands  NaN\n",
              "4  Battle of the Whispering Wood   298  ...   The Riverlands  NaN\n",
              "\n",
              "[5 rows x 25 columns]"
            ]
          },
          "metadata": {
            "tags": []
          },
          "execution_count": 22
        }
      ]
    },
    {
      "cell_type": "code",
      "metadata": {
        "colab": {
          "base_uri": "https://localhost:8080/"
        },
        "id": "uy2fH0xLtbCt",
        "outputId": "3f845664-784b-4bb5-cbd6-ebb6eeb569c5"
      },
      "source": [
        "battle[\"attacker_1\"].value_counts()"
      ],
      "execution_count": 24,
      "outputs": [
        {
          "output_type": "execute_result",
          "data": {
            "text/plain": [
              "Stark                          8\n",
              "Lannister                      8\n",
              "Greyjoy                        7\n",
              "Baratheon                      6\n",
              "Bolton                         2\n",
              "Frey                           2\n",
              "Bracken                        1\n",
              "Brotherhood without Banners    1\n",
              "Free folk                      1\n",
              "Brave Companions               1\n",
              "Darry                          1\n",
              "Name: attacker_1, dtype: int64"
            ]
          },
          "metadata": {
            "tags": []
          },
          "execution_count": 24
        }
      ]
    },
    {
      "cell_type": "code",
      "metadata": {
        "colab": {
          "base_uri": "https://localhost:8080/",
          "height": 254
        },
        "id": "Y2EhIfLRtr8A",
        "outputId": "2ee29cd6-4bca-4768-c815-e46e05215893"
      },
      "source": [
        "plt.figure(figsize=(15,10))\n",
        "plt.pie(list(battle[\"attacker_1\"].value_counts()),labels=list(battle[\"attacker_1\"].value_counts().index),autopct=\"%0.1f%%\")\n",
        "plt.show()"
      ],
      "execution_count": 26,
      "outputs": [
        {
          "output_type": "display_data",
          "data": {
            "image/png": "[encoded data removed]",
            "text/plain": [
              "<Figure size 1080x720 with 1 Axes>"
            ]
          },
          "metadata": {
            "tags": []
          }
        }
      ]
    },
    {
      "cell_type": "code",
      "metadata": {
        "colab": {
          "base_uri": "https://localhost:8080/"
        },
        "id": "uBbYMnVsvAPL",
        "outputId": "41d09170-ec1c-41d4-d039-83e373fff8a1"
      },
      "source": [
        "battle[\"defender_1\"].value_counts()"
      ],
      "execution_count": 31,
      "outputs": [
        {
          "output_type": "execute_result",
          "data": {
            "text/plain": [
              "Lannister           9\n",
              "Stark               8\n",
              "Tully               4\n",
              "Baratheon           4\n",
              "Greyjoy             3\n",
              "Tyrell              2\n",
              "Brave Companions    2\n",
              "Blackwood           1\n",
              "Mallister           1\n",
              "Night's Watch       1\n",
              "Bolton              1\n",
              "Darry               1\n",
              "Name: defender_1, dtype: int64"
            ]
          },
          "metadata": {
            "tags": []
          },
          "execution_count": 31
        }
      ]
    },
    {
      "cell_type": "code",
      "metadata": {
        "colab": {
          "base_uri": "https://localhost:8080/",
          "height": 197
        },
        "id": "nMbPOO08v4_B",
        "outputId": "914728cd-0d26-46f0-c3e4-bd67033c9eee"
      },
      "source": [
        "plt.figure(figsize=(15,10))\n",
        "plt.bar(list(battle[\"defender_1\"].value_counts().index),list(battle[\"defender_1\"].value_counts()),color=[\"orange\"])\n",
        "plt.show()"
      ],
      "execution_count": 34,
      "outputs": [
        {
          "output_type": "display_data",
          "data": {
            "image/png": "[encoded data removed]",
            "text/plain": [
              "<Figure size 1080x720 with 1 Axes>"
            ]
          },
          "metadata": {
            "tags": [],
            "needs_background": "light"
          }
        }
      ]
    },
    {
      "cell_type": "code",
      "metadata": {
        "colab": {
          "base_uri": "https://localhost:8080/"
        },
        "id": "OoX1mRRpwSoo",
        "outputId": "8000ff36-8458-4f4d-a02b-1f058b8e2447"
      },
      "source": [
        "battle[\"attacker_outcome\"].value_counts()"
      ],
      "execution_count": 36,
      "outputs": [
        {
          "output_type": "execute_result",
          "data": {
            "text/plain": [
              "win     32\n",
              "loss     5\n",
              "Name: attacker_outcome, dtype: int64"
            ]
          },
          "metadata": {
            "tags": []
          },
          "execution_count": 36
        }
      ]
    },
    {
      "cell_type": "code",
      "metadata": {
        "colab": {
          "base_uri": "https://localhost:8080/",
          "height": 196
        },
        "id": "iQqCauo4w-0r",
        "outputId": "373a9ec2-6855-42fc-dc18-32ef01a655f0"
      },
      "source": [
        "plt.figure(figsize=(15,10))\n",
        "plt.bar(list(battle[\"attacker_outcome\"].value_counts().index),list(battle[\"attacker_outcome\"].value_counts()),color=[\"m\",\"c\"])\n",
        "plt.show()"
      ],
      "execution_count": 38,
      "outputs": [
        {
          "output_type": "display_data",
          "data": {
            "image/png": "[encoded data removed]",
            "text/plain": [
              "<Figure size 1080x720 with 1 Axes>"
            ]
          },
          "metadata": {
            "tags": [],
            "needs_background": "light"
          }
        }
      ]
    },
    {
      "cell_type": "code",
      "metadata": {
        "colab": {
          "base_uri": "https://localhost:8080/"
        },
        "id": "FLYtC1Rvxg1n",
        "outputId": "f88a0a45-35ee-4ae2-dca8-b2e28125a291"
      },
      "source": [
        "battle[\"battle_type\"].value_counts()"
      ],
      "execution_count": 40,
      "outputs": [
        {
          "output_type": "execute_result",
          "data": {
            "text/plain": [
              "pitched battle    14\n",
              "siege             11\n",
              "ambush            10\n",
              "razing             2\n",
              "Name: battle_type, dtype: int64"
            ]
          },
          "metadata": {
            "tags": []
          },
          "execution_count": 40
        }
      ]
    },
    {
      "cell_type": "code",
      "metadata": {
        "colab": {
          "base_uri": "https://localhost:8080/",
          "height": 196
        },
        "id": "enTgRWwsynxK",
        "outputId": "8c6ced48-ddcd-4df7-f7bc-75c003944096"
      },
      "source": [
        "plt.figure(figsize=(15,10))\n",
        "plt.bar(list(battle[\"battle_type\"].value_counts().index),list(battle[\"battle_type\"].value_counts()),color=[\"k\"])\n",
        "plt.show()"
      ],
      "execution_count": 42,
      "outputs": [
        {
          "output_type": "display_data",
          "data": {
            "image/png": "[encoded data removed]",
            "text/plain": [
              "<Figure size 1080x720 with 1 Axes>"
            ]
          },
          "metadata": {
            "tags": [],
            "needs_background": "light"
          }
        }
      ]
    },
    {
      "cell_type": "code",
      "metadata": {
        "colab": {
          "base_uri": "https://localhost:8080/"
        },
        "id": "E4t3fK9zzDq_",
        "outputId": "31c0a281-9751-4980-ba7b-18490e234a81"
      },
      "source": [
        "battle[\"major_death\"].value_counts()"
      ],
      "execution_count": 45,
      "outputs": [
        {
          "output_type": "execute_result",
          "data": {
            "text/plain": [
              "False    24\n",
              "True     13\n",
              "Name: major_death, dtype: int64"
            ]
          },
          "metadata": {
            "tags": []
          },
          "execution_count": 45
        }
      ]
    },
    {
      "cell_type": "code",
      "metadata": {
        "colab": {
          "base_uri": "https://localhost:8080/",
          "height": 288
        },
        "id": "rOQXhc8QzYqF",
        "outputId": "09b2eb37-dc94-44ed-b319-08f0598eb51d"
      },
      "source": [
        "plt.figure(figsize=(7,7))\n",
        "plt.pie(list(battle[\"major_death\"].value_counts()),labels=list(battle[\"major_death\"].value_counts().keys()),autopct=\"%0.1f%%\")\n",
        "plt.show()"
      ],
      "execution_count": 50,
      "outputs": [
        {
          "output_type": "display_data",
          "data": {
            "image/png": "[encoded data removed]",
            "text/plain": [
              "<Figure size 504x504 with 1 Axes>"
            ]
          },
          "metadata": {
            "tags": []
          }
        }
      ]
    },
    {
      "cell_type": "code",
      "metadata": {
        "colab": {
          "base_uri": "https://localhost:8080/"
        },
        "id": "opSkGyrA0lGp",
        "outputId": "2076c018-1b5f-492b-df5c-a011be1326f1"
      },
      "source": [
        "battle[\"major_capture\"].value_counts()"
      ],
      "execution_count": 51,
      "outputs": [
        {
          "output_type": "execute_result",
          "data": {
            "text/plain": [
              "False    26\n",
              "True     11\n",
              "Name: major_capture, dtype: int64"
            ]
          },
          "metadata": {
            "tags": []
          },
          "execution_count": 51
        }
      ]
    },
    {
      "cell_type": "code",
      "metadata": {
        "colab": {
          "base_uri": "https://localhost:8080/",
          "height": 196
        },
        "id": "svTt3pl_0_6J",
        "outputId": "e30a50a6-01c2-4cc5-9b2e-4215b077dd80"
      },
      "source": [
        "plt.figure(figsize=(15,10))\n",
        "plt.bar(list(battle[\"major_capture\"].value_counts().index),list(battle[\"major_capture\"].value_counts()),color=[\"olive\",\"green\"])\n",
        "plt.show()"
      ],
      "execution_count": 54,
      "outputs": [
        {
          "output_type": "display_data",
          "data": {
            "image/png": "[encoded data removed]",
            "text/plain": [
              "<Figure size 1080x720 with 1 Axes>"
            ]
          },
          "metadata": {
            "tags": [],
            "needs_background": "light"
          }
        }
      ]
    },
    {
      "cell_type": "code",
      "metadata": {
        "colab": {
          "base_uri": "https://localhost:8080/",
          "height": 411
        },
        "id": "OUZEYFVs1YtZ",
        "outputId": "0eba863b-003c-4940-9185-2e3cc9897c9f"
      },
      "source": [
        "battle.head()"
      ],
      "execution_count": 56,
      "outputs": [
        {
          "output_type": "execute_result",
          "data": {
            "text/html": [
              "<div>\n",
              "<style scoped>\n",
              "    .dataframe tbody tr th:only-of-type {\n",
              "        vertical-align: middle;\n",
              "    }\n",
              "\n",
              "    .dataframe tbody tr th {\n",
              "        vertical-align: top;\n",
              "    }\n",
              "\n",
              "    .dataframe thead th {\n",
              "        text-align: right;\n",
              "    }\n",
              "</style>\n",
              "<table border=\"1\" class=\"dataframe\">\n",
              "  <thead>\n",
              "    <tr style=\"text-align: right;\">\n",
              "      <th></th>\n",
              "      <th>name</th>\n",
              "      <th>year</th>\n",
              "      <th>battle_number</th>\n",
              "      <th>attacker_king</th>\n",
              "      <th>defender_king</th>\n",
              "      <th>attacker_1</th>\n",
              "      <th>attacker_2</th>\n",
              "      <th>attacker_3</th>\n",
              "      <th>attacker_4</th>\n",
              "      <th>defender_1</th>\n",
              "      <th>defender_2</th>\n",
              "      <th>defender_3</th>\n",
              "      <th>defender_4</th>\n",
              "      <th>attacker_outcome</th>\n",
              "      <th>battle_type</th>\n",
              "      <th>major_death</th>\n",
              "      <th>major_capture</th>\n",
              "      <th>attacker_size</th>\n",
              "      <th>defender_size</th>\n",
              "      <th>attacker_commander</th>\n",
              "      <th>defender_commander</th>\n",
              "      <th>summer</th>\n",
              "      <th>location</th>\n",
              "      <th>region</th>\n",
              "      <th>note</th>\n",
              "    </tr>\n",
              "  </thead>\n",
              "  <tbody>\n",
              "    <tr>\n",
              "      <th>0</th>\n",
              "      <td>Battle of the Golden Tooth</td>\n",
              "      <td>298</td>\n",
              "      <td>1</td>\n",
              "      <td>Joffrey/Tommen Baratheon</td>\n",
              "      <td>Robb Stark</td>\n",
              "      <td>Lannister</td>\n",
              "      <td>NaN</td>\n",
              "      <td>NaN</td>\n",
              "      <td>NaN</td>\n",
              "      <td>Tully</td>\n",
              "      <td>NaN</td>\n",
              "      <td>NaN</td>\n",
              "      <td>NaN</td>\n",
              "      <td>win</td>\n",
              "      <td>pitched battle</td>\n",
              "      <td>True</td>\n",
              "      <td>False</td>\n",
              "      <td>15000.0</td>\n",
              "      <td>4000.0</td>\n",
              "      <td>Jaime Lannister</td>\n",
              "      <td>Clement Piper, Vance</td>\n",
              "      <td>True</td>\n",
              "      <td>Golden Tooth</td>\n",
              "      <td>The Westerlands</td>\n",
              "      <td>NaN</td>\n",
              "    </tr>\n",
              "    <tr>\n",
              "      <th>1</th>\n",
              "      <td>Battle at the Mummer's Ford</td>\n",
              "      <td>298</td>\n",
              "      <td>2</td>\n",
              "      <td>Joffrey/Tommen Baratheon</td>\n",
              "      <td>Robb Stark</td>\n",
              "      <td>Lannister</td>\n",
              "      <td>NaN</td>\n",
              "      <td>NaN</td>\n",
              "      <td>NaN</td>\n",
              "      <td>Baratheon</td>\n",
              "      <td>NaN</td>\n",
              "      <td>NaN</td>\n",
              "      <td>NaN</td>\n",
              "      <td>win</td>\n",
              "      <td>ambush</td>\n",
              "      <td>True</td>\n",
              "      <td>False</td>\n",
              "      <td>NaN</td>\n",
              "      <td>120.0</td>\n",
              "      <td>Gregor Clegane</td>\n",
              "      <td>Beric Dondarrion</td>\n",
              "      <td>True</td>\n",
              "      <td>Mummer's Ford</td>\n",
              "      <td>The Riverlands</td>\n",
              "      <td>NaN</td>\n",
              "    </tr>\n",
              "    <tr>\n",
              "      <th>2</th>\n",
              "      <td>Battle of Riverrun</td>\n",
              "      <td>298</td>\n",
              "      <td>3</td>\n",
              "      <td>Joffrey/Tommen Baratheon</td>\n",
              "      <td>Robb Stark</td>\n",
              "      <td>Lannister</td>\n",
              "      <td>NaN</td>\n",
              "      <td>NaN</td>\n",
              "      <td>NaN</td>\n",
              "      <td>Tully</td>\n",
              "      <td>NaN</td>\n",
              "      <td>NaN</td>\n",
              "      <td>NaN</td>\n",
              "      <td>win</td>\n",
              "      <td>pitched battle</td>\n",
              "      <td>False</td>\n",
              "      <td>True</td>\n",
              "      <td>15000.0</td>\n",
              "      <td>10000.0</td>\n",
              "      <td>Jaime Lannister, Andros Brax</td>\n",
              "      <td>Edmure Tully, Tytos Blackwood</td>\n",
              "      <td>True</td>\n",
              "      <td>Riverrun</td>\n",
              "      <td>The Riverlands</td>\n",
              "      <td>NaN</td>\n",
              "    </tr>\n",
              "    <tr>\n",
              "      <th>3</th>\n",
              "      <td>Battle of the Green Fork</td>\n",
              "      <td>298</td>\n",
              "      <td>4</td>\n",
              "      <td>Robb Stark</td>\n",
              "      <td>Joffrey/Tommen Baratheon</td>\n",
              "      <td>Stark</td>\n",
              "      <td>NaN</td>\n",
              "      <td>NaN</td>\n",
              "      <td>NaN</td>\n",
              "      <td>Lannister</td>\n",
              "      <td>NaN</td>\n",
              "      <td>NaN</td>\n",
              "      <td>NaN</td>\n",
              "      <td>loss</td>\n",
              "      <td>pitched battle</td>\n",
              "      <td>True</td>\n",
              "      <td>True</td>\n",
              "      <td>18000.0</td>\n",
              "      <td>20000.0</td>\n",
              "      <td>Roose Bolton, Wylis Manderly, Medger Cerwyn, H...</td>\n",
              "      <td>Tywin Lannister, Gregor Clegane, Kevan Lannist...</td>\n",
              "      <td>True</td>\n",
              "      <td>Green Fork</td>\n",
              "      <td>The Riverlands</td>\n",
              "      <td>NaN</td>\n",
              "    </tr>\n",
              "    <tr>\n",
              "      <th>4</th>\n",
              "      <td>Battle of the Whispering Wood</td>\n",
              "      <td>298</td>\n",
              "      <td>5</td>\n",
              "      <td>Robb Stark</td>\n",
              "      <td>Joffrey/Tommen Baratheon</td>\n",
              "      <td>Stark</td>\n",
              "      <td>Tully</td>\n",
              "      <td>NaN</td>\n",
              "      <td>NaN</td>\n",
              "      <td>Lannister</td>\n",
              "      <td>NaN</td>\n",
              "      <td>NaN</td>\n",
              "      <td>NaN</td>\n",
              "      <td>win</td>\n",
              "      <td>ambush</td>\n",
              "      <td>True</td>\n",
              "      <td>True</td>\n",
              "      <td>1875.0</td>\n",
              "      <td>6000.0</td>\n",
              "      <td>Robb Stark, Brynden Tully</td>\n",
              "      <td>Jaime Lannister</td>\n",
              "      <td>True</td>\n",
              "      <td>Whispering Wood</td>\n",
              "      <td>The Riverlands</td>\n",
              "      <td>NaN</td>\n",
              "    </tr>\n",
              "  </tbody>\n",
              "</table>\n",
              "</div>"
            ],
            "text/plain": [
              "                            name  year  ...           region note\n",
              "0     Battle of the Golden Tooth   298  ...  The Westerlands  NaN\n",
              "1    Battle at the Mummer's Ford   298  ...   The Riverlands  NaN\n",
              "2             Battle of Riverrun   298  ...   The Riverlands  NaN\n",
              "3       Battle of the Green Fork   298  ...   The Riverlands  NaN\n",
              "4  Battle of the Whispering Wood   298  ...   The Riverlands  NaN\n",
              "\n",
              "[5 rows x 25 columns]"
            ]
          },
          "metadata": {
            "tags": []
          },
          "execution_count": 56
        }
      ]
    },
    {
      "cell_type": "code",
      "metadata": {
        "colab": {
          "base_uri": "https://localhost:8080/"
        },
        "id": "ix2VM5-22LIi",
        "outputId": "ca57e106-75c4-47d3-a798-26db5e1885d9"
      },
      "source": [
        "battle[\"attacker_size\"].value_counts()"
      ],
      "execution_count": 58,
      "outputs": [
        {
          "output_type": "execute_result",
          "data": {
            "text/plain": [
              "6000.0      3\n",
              "5000.0      2\n",
              "3000.0      2\n",
              "15000.0     2\n",
              "4500.0      1\n",
              "3500.0      1\n",
              "2000.0      1\n",
              "100.0       1\n",
              "20000.0     1\n",
              "21000.0     1\n",
              "618.0       1\n",
              "20.0        1\n",
              "244.0       1\n",
              "264.0       1\n",
              "1000.0      1\n",
              "1500.0      1\n",
              "1875.0      1\n",
              "18000.0     1\n",
              "100000.0    1\n",
              "Name: attacker_size, dtype: int64"
            ]
          },
          "metadata": {
            "tags": []
          },
          "execution_count": 58
        }
      ]
    },
    {
      "cell_type": "code",
      "metadata": {
        "colab": {
          "base_uri": "https://localhost:8080/",
          "height": 240
        },
        "id": "e_wq9wrr2njJ",
        "outputId": "2e2c558d-c6b0-4c08-a199-3b9ea44bc9ac"
      },
      "source": [
        "sns.histplot(battle[\"attacker_size\"].value_counts())\n",
        "plt.show"
      ],
      "execution_count": 60,
      "outputs": [
        {
          "output_type": "execute_result",
          "data": {
            "text/plain": [
              "<function matplotlib.pyplot.show>"
            ]
          },
          "metadata": {
            "tags": []
          },
          "execution_count": 60
        },
        {
          "output_type": "display_data",
          "data": {
            "image/png": "[encoded data removed]",
            "text/plain": [
              "<Figure size 432x288 with 1 Axes>"
            ]
          },
          "metadata": {
            "tags": [],
            "needs_background": "light"
          }
        }
      ]
    },
    {
      "cell_type": "code",
      "metadata": {
        "colab": {
          "base_uri": "https://localhost:8080/"
        },
        "id": "q803rPJd3H5E",
        "outputId": "68bf0205-052d-401c-d9d9-82dfbc6b372a"
      },
      "source": [
        "battle[\"defender_size\"].value_counts()"
      ],
      "execution_count": 61,
      "outputs": [
        {
          "output_type": "execute_result",
          "data": {
            "text/plain": [
              "10000.0    3\n",
              "200.0      2\n",
              "6000.0     2\n",
              "20000.0    2\n",
              "7250.0     1\n",
              "8000.0     1\n",
              "1240.0     1\n",
              "12625.0    1\n",
              "3500.0     1\n",
              "100.0      1\n",
              "2000.0     1\n",
              "900.0      1\n",
              "120.0      1\n",
              "4000.0     1\n",
              "Name: defender_size, dtype: int64"
            ]
          },
          "metadata": {
            "tags": []
          },
          "execution_count": 61
        }
      ]
    },
    {
      "cell_type": "code",
      "metadata": {
        "colab": {
          "base_uri": "https://localhost:8080/",
          "height": 206
        },
        "id": "oudSNYqg3STm",
        "outputId": "02817cc4-a9f6-46ce-a64b-c6d76976c5e3"
      },
      "source": [
        "sns.histplot(battle[\"defender_size\"])\n",
        "plt.show()"
      ],
      "execution_count": 62,
      "outputs": [
        {
          "output_type": "display_data",
          "data": {
            "image/png": "[encoded data removed]",
            "text/plain": [
              "<Figure size 432x288 with 1 Axes>"
            ]
          },
          "metadata": {
            "tags": [],
            "needs_background": "light"
          }
        }
      ]
    },
    {
      "cell_type": "code",
      "metadata": {
        "colab": {
          "base_uri": "https://localhost:8080/"
        },
        "id": "uvYRjdqT3fyp",
        "outputId": "ea55426a-a2fe-4209-cd70-b083cb16d800"
      },
      "source": [
        "battle[\"attacker_commander\"].value_counts()"
      ],
      "execution_count": 63,
      "outputs": [
        {
          "output_type": "execute_result",
          "data": {
            "text/plain": [
              "Gregor Clegane                                                                                     4\n",
              "Euron Greyjoy, Victarion Greyjoy                                                                   2\n",
              "Robb Stark, Brynden Tully                                                                          2\n",
              "Theon Greyjoy                                                                                      2\n",
              "Walder Frey                                                                                        1\n",
              "Asha Greyjoy                                                                                       1\n",
              "Mance Rayder, Tormund Giantsbane, Harma Dogshead, Magnar Styr, Varamyr                             1\n",
              "Ramsey Bolton                                                                                      1\n",
              "Rodrik Cassel, Cley Cerwyn                                                                         1\n",
              "Walder Frey, Roose Bolton, Walder Rivers                                                           1\n",
              "Stannis Baratheon                                                                                  1\n",
              "Tywin Lannister, Flement Brax, Gregor Clegane, Addam Marbrand, Lyle Crakehall, Leo Lefford         1\n",
              "Stannis Baratheon, Imry Florent, Guyard Morrigen, Rolland Storm, Salladhor Saan, Davos Seaworth    1\n",
              "Robb Stark, Tytos Blackwood, Brynden Tully                                                         1\n",
              "Loras Tyrell, Raxter Redwyne                                                                       1\n",
              "Roose Bolton, Vargo Hoat, Robett Glover                                                            1\n",
              "Robertt Glover, Helman Tallhart                                                                    1\n",
              "Ramsay Snow, Theon Greyjoy                                                                         1\n",
              "Victarion Greyjoy                                                                                  1\n",
              "Rorge                                                                                              1\n",
              "Roose Bolton, Wylis Manderly, Medger Cerwyn, Harrion Karstark, Halys Hornwood                      1\n",
              "Jaime Lannister, Andros Brax                                                                       1\n",
              "Mace Tyrell, Mathis Rowan                                                                          1\n",
              "Jonos Bracken, Jaime Lannister                                                                     1\n",
              "Dagmer Cleftjaw                                                                                    1\n",
              "Robb Stark, Smalljon Umber, Black Walder Frey                                                      1\n",
              "Jaime Lannister                                                                                    1\n",
              "Stannis Baratheon, Alysane Mormot                                                                  1\n",
              "Daven Lannister, Ryman Fey, Jaime Lannister                                                        1\n",
              "Stannis Baratheon, Davos Seaworth                                                                  1\n",
              "Helman Tallhart                                                                                    1\n",
              "Name: attacker_commander, dtype: int64"
            ]
          },
          "metadata": {
            "tags": []
          },
          "execution_count": 63
        }
      ]
    },
    {
      "cell_type": "code",
      "metadata": {
        "colab": {
          "base_uri": "https://localhost:8080/",
          "height": 192
        },
        "id": "ZujTkutW4J2_",
        "outputId": "9f89fd09-3e1e-4029-e434-bc3b8033c471"
      },
      "source": [
        "plt.figure(figsize=(15,10))\n",
        "plt.bar(list(battle[\"attacker_commander\"].value_counts().index),list(battle[\"attacker_commander\"].value_counts()),color=[\"olive\",\"green\"])\n",
        "plt.show()"
      ],
      "execution_count": 65,
      "outputs": [
        {
          "output_type": "display_data",
          "data": {
            "image/png": "[encoded data removed]",
            "text/plain": [
              "<Figure size 1080x720 with 1 Axes>"
            ]
          },
          "metadata": {
            "tags": [],
            "needs_background": "light"
          }
        }
      ]
    },
    {
      "cell_type": "code",
      "metadata": {
        "colab": {
          "base_uri": "https://localhost:8080/"
        },
        "id": "WGUedtCo4euf",
        "outputId": "34565652-0a3a-4dca-cbff-e521020cc992"
      },
      "source": [
        "battle[\"defender_commander\"].value_counts()"
      ],
      "execution_count": 66,
      "outputs": [
        {
          "output_type": "execute_result",
          "data": {
            "text/plain": [
              "Roose Bolton, Wylis Manderly                                                                                     1\n",
              "Edmure Tully, Jason Mallister, Karyl Vance                                                                       1\n",
              "Brynden Tully                                                                                                    1\n",
              "Edmure Tully, Tytos Blackwood                                                                                    1\n",
              "Tywin Lannister, Gregor Clegane, Kevan Lannister, Addam Marbrand                                                 1\n",
              "Robb Stark                                                                                                       1\n",
              "Tytos Blackwood                                                                                                  1\n",
              "Tyrion Lannister, Jacelyn Bywater, Sandor Clegane, Tywin Lannister, Garlan Tyrell, Mace Tyrell, Randyll Tarly    1\n",
              "Asha Greyjoy                                                                                                     1\n",
              "Roose Bolton                                                                                                     1\n",
              "Rolland Storm                                                                                                    1\n",
              "Amory Lorch                                                                                                      1\n",
              "Lord Andros Brax, Forley Prester                                                                                 1\n",
              "Lyman Darry                                                                                                      1\n",
              "Stafford Lannister, Roland Crakehall, Antario Jast                                                               1\n",
              "Beric Dondarrion                                                                                                 1\n",
              "Randyll Tarly, Gregor Clegane                                                                                    1\n",
              "Dagmer Cleftjaw                                                                                                  1\n",
              "Renly Baratheon, Cortnay Penrose, Loras Tyrell, Randyll Tarly, Mathis Rowan                                      1\n",
              "Rolph Spicer                                                                                                     1\n",
              "Jaime Lannister                                                                                                  1\n",
              "Gilbert Farring                                                                                                  1\n",
              "Bran Stark                                                                                                       1\n",
              "Clement Piper, Vance                                                                                             1\n",
              "Rodrik Cassel, Cley Cerwyn, Leobald Tallhart                                                                     1\n",
              "Jason Mallister                                                                                                  1\n",
              "Vargo Hoat                                                                                                       1\n",
              "Stannis Baratheon, Jon Snow, Donal Noye, Cotter Pyke                                                             1\n",
              "Name: defender_commander, dtype: int64"
            ]
          },
          "metadata": {
            "tags": []
          },
          "execution_count": 66
        }
      ]
    },
    {
      "cell_type": "code",
      "metadata": {
        "colab": {
          "base_uri": "https://localhost:8080/"
        },
        "id": "Lzc4X-Bf4x3j",
        "outputId": "c52e47b4-f3b2-4e7c-8fee-e579be8a0610"
      },
      "source": [
        "battle[\"summer\"].value_counts()"
      ],
      "execution_count": 67,
      "outputs": [
        {
          "output_type": "execute_result",
          "data": {
            "text/plain": [
              "True     26\n",
              "False    11\n",
              "Name: summer, dtype: int64"
            ]
          },
          "metadata": {
            "tags": []
          },
          "execution_count": 67
        }
      ]
    },
    {
      "cell_type": "code",
      "metadata": {
        "colab": {
          "base_uri": "https://localhost:8080/"
        },
        "id": "mtuMDqgx5B6U",
        "outputId": "e48455b2-ab59-46b8-b8a7-7f6694e07270"
      },
      "source": [
        "battle[\"location\"].value_counts()"
      ],
      "execution_count": 69,
      "outputs": [
        {
          "output_type": "execute_result",
          "data": {
            "text/plain": [
              "Riverrun                                3\n",
              "Winterfell                              3\n",
              "Harrenhal                               2\n",
              "Moat Cailin                             2\n",
              "Storm's End                             2\n",
              "Torrhen's Square                        2\n",
              "Darry                                   2\n",
              "Deepwood Motte                          2\n",
              "Raventree                               1\n",
              "Ruby Ford                               1\n",
              "Crag                                    1\n",
              "The Twins                               1\n",
              "Whispering Wood                         1\n",
              "Golden Tooth                            1\n",
              "Seagard                                 1\n",
              "Ryamsport, Vinetown, Starfish Harbor    1\n",
              "Duskendale                              1\n",
              "Dragonstone                             1\n",
              "Green Fork                              1\n",
              "Shield Islands                          1\n",
              "Red Fork                                1\n",
              "Mummer's Ford                           1\n",
              "Oxcross                                 1\n",
              "Saltpans                                1\n",
              "Castle Black                            1\n",
              "Stony Shore                             1\n",
              "King's Landing                          1\n",
              "Name: location, dtype: int64"
            ]
          },
          "metadata": {
            "tags": []
          },
          "execution_count": 69
        }
      ]
    },
    {
      "cell_type": "code",
      "metadata": {
        "colab": {
          "base_uri": "https://localhost:8080/"
        },
        "id": "6WF3_DOm5Oc1",
        "outputId": "f765e346-0e6a-4c53-c355-42078cb48c36"
      },
      "source": [
        "battle[\"region\"].value_counts()"
      ],
      "execution_count": 70,
      "outputs": [
        {
          "output_type": "execute_result",
          "data": {
            "text/plain": [
              "The Riverlands     17\n",
              "The North          10\n",
              "The Westerlands     3\n",
              "The Stormlands      3\n",
              "The Crownlands      2\n",
              "The Reach           2\n",
              "Beyond the Wall     1\n",
              "Name: region, dtype: int64"
            ]
          },
          "metadata": {
            "tags": []
          },
          "execution_count": 70
        }
      ]
    },
    {
      "cell_type": "code",
      "metadata": {
        "colab": {
          "base_uri": "https://localhost:8080/"
        },
        "id": "_Gu5oaO65ZbF",
        "outputId": "721bb5b0-adc7-4805-ea76-4a152a98fa9a"
      },
      "source": [
        "battle[\"note\"].value_counts()"
      ],
      "execution_count": 71,
      "outputs": [
        {
          "output_type": "execute_result",
          "data": {
            "text/plain": [
              "Since House Bolton betrays the Starks for House Lannister, we code this battle as between these two houses. Greyjoy men, numbering only 20, don't play a major part in the fighting and end up dying anyway.                                                         1\n",
              "It isn't mentioned how many Stark men are left in Winterfell, other than \"very few\".                                                                                                                                                                                 1\n",
              "Greyjoy's troop number comes from the 264 estimate to have arrived on the stony shore minus the 20 Theon takes to attack Winterfell. Thus 264-20=244                                                                                                                 1\n",
              "Greyjoy's troop number based on the Battle of Deepwood Motte, in which Asha had 1000 soldier on 30 longships. That comes out to ~33 per longship. In the Battle of the Stony Shore, Theon has 8 longships, and just we can estimate that he has 8*33 =265 troops.    1\n",
              "This observation refers to the battle against the Stark men, not the attack on the wedding                                                                                                                                                                           1\n",
              "Name: note, dtype: int64"
            ]
          },
          "metadata": {
            "tags": []
          },
          "execution_count": 71
        }
      ]
    }
  ]
}